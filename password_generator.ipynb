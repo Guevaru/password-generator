{
 "cells": [
  {
   "cell_type": "markdown",
   "metadata": {},
   "source": [
    "Password Generator using random.sample, Here, we create variables for different strings values amd concatenate them, after which another variable for the length ofn the password is created. we then craete the password variable to invoke the random module with the sample function carrying arguement of  the length and the concantenation"
   ]
  },
  {
   "cell_type": "code",
   "execution_count": 13,
   "metadata": {},
   "outputs": [
    {
     "name": "stdout",
     "output_type": "stream",
     "text": [
      "Here is your password: }XCs=#i\\QVAq\n"
     ]
    }
   ],
   "source": [
    "import random\n",
    "\n",
    "#create several variables for different string values each\n",
    "uppercase='ABCDEFGHIJKLMNOPQRSTUVWXYZ'\n",
    "lowercase='abcdefghijklmnopqrstuvwxyz'\n",
    "number='1234567890'\n",
    "symbol='~!@#$%^&*()+=,-./:;<=>?@{|}\\[]'\n",
    "\n",
    "#concatenate all the variables\n",
    "combined=uppercase+lowercase+number+symbol\n",
    "\n",
    "#declare a variables for the length of the password\n",
    "length= 12\n",
    "\n",
    "#make a variable password to join the module random with the function sample carrying arguements length and combined\n",
    "\n",
    "password= \"\".join(random.sample(combined, length))\n",
    "print(\"Here is your password: \" + password)"
   ]
  },
  {
   "cell_type": "markdown",
   "metadata": {},
   "source": [
    "Password Generator using random.randint , Here, we define a function shuffle(strings) to shuffle  list of  different character type ,we then create different variables that use chr(random.randint()) to fetch character of different form.  Ascii code range are passed into random.randint() as arguements to retrieve character of different forms. another variable password was created to concatenate all the variable with the ascii code range. password is then passed as an arguement into shuffle(). "
   ]
  },
  {
   "cell_type": "code",
   "execution_count": 14,
   "metadata": {},
   "outputs": [
    {
     "name": "stdout",
     "output_type": "stream",
     "text": [
      "Here is your password: <7🗈QºA,x\n"
     ]
    }
   ],
   "source": [
    "import random\n",
    "\n",
    "#define a function do shuffle all the characters of a string\n",
    "def shuffle(strings):\n",
    "    templist= list(strings)\n",
    "    random.shuffle(templist)\n",
    "    return ''.join(templist)\n",
    "\n",
    "#the main program starts here\n",
    "uppercase=chr(random.randint(65,90))\n",
    "lowercase=chr(random.randint(97,122))\n",
    "number=chr(random.randint(48,57))\n",
    "symbol=chr(random.randint(33,47))\n",
    "more_signs=chr(random.randint(60,65))\n",
    "all_forms=chr(random.randint(33,126))\n",
    "emojis=chr(random.randint(128151,128525))\n",
    "other_forms=chr(random.randint(123,152))\n",
    "arabic=chr(random.randint(153,255))\n",
    "\n",
    "#Generate password using all the characters, in random order\n",
    "password= uppercase+lowercase+arabic+other_forms+number+symbol+more_signs+emojis+all_forms\n",
    "password= shuffle(password)\n",
    "print(\"Here is your password: \" + password)\n"
   ]
  }
 ],
 "metadata": {
  "kernelspec": {
   "display_name": "Python 3.9.13 64-bit (microsoft store)",
   "language": "python",
   "name": "python3"
  },
  "language_info": {
   "codemirror_mode": {
    "name": "ipython",
    "version": 3
   },
   "file_extension": ".py",
   "mimetype": "text/x-python",
   "name": "python",
   "nbconvert_exporter": "python",
   "pygments_lexer": "ipython3",
   "version": "3.9.13"
  },
  "orig_nbformat": 4,
  "vscode": {
   "interpreter": {
    "hash": "33c99ce92ae57a37c90157b7c35934b668ba43f0729fdf7df53b30c6721ba8f2"
   }
  }
 },
 "nbformat": 4,
 "nbformat_minor": 2
}
